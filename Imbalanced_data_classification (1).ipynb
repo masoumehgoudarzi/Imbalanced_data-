{
 "cells": [
  {
   "cell_type": "markdown",
   "id": "309aaf91",
   "metadata": {},
   "source": [
    "[Imbalanced-learn](https://imbalanced-learn.org/stable/) (imported as imblearn) is an open source, MIT-licensed library relying on scikit-learn (imported as sklearn) and provides tools when dealing with classification with imbalanced classes."
   ]
  },
  {
   "cell_type": "code",
   "execution_count": 1,
   "id": "453e9cd8",
   "metadata": {},
   "outputs": [
    {
     "name": "stdout",
     "output_type": "stream",
     "text": [
      "Requirement already satisfied: imbalanced-learn in /Users/khamir/opt/miniconda3/lib/python3.9/site-packages (0.9.1)\n",
      "Requirement already satisfied: scipy>=1.3.2 in /Users/khamir/opt/miniconda3/lib/python3.9/site-packages (from imbalanced-learn) (1.7.3)\n",
      "Requirement already satisfied: numpy>=1.17.3 in /Users/khamir/opt/miniconda3/lib/python3.9/site-packages (from imbalanced-learn) (1.21.5)\n",
      "Requirement already satisfied: scikit-learn>=1.1.0 in /Users/khamir/opt/miniconda3/lib/python3.9/site-packages (from imbalanced-learn) (1.1.2)\n",
      "Requirement already satisfied: threadpoolctl>=2.0.0 in /Users/khamir/opt/miniconda3/lib/python3.9/site-packages (from imbalanced-learn) (3.1.0)\n",
      "Requirement already satisfied: joblib>=1.0.0 in /Users/khamir/opt/miniconda3/lib/python3.9/site-packages (from imbalanced-learn) (1.1.0)\n"
     ]
    }
   ],
   "source": [
    "! pip install imbalanced-learn"
   ]
  },
  {
   "cell_type": "markdown",
   "id": "d38ca081",
   "metadata": {},
   "source": [
    "# About Dataset\n",
    "\n",
    "Digital payments are evolving, but so are cyber criminals.\n",
    "\n",
    "According to the Data Breach Index, more than 5 million records are being stolen on a daily basis, a concerning statistic that shows - fraud is still very common both for Card-Present and Card-not Present type of payments.\n",
    "\n",
    "In today’s digital world where trillions of Card transaction happens per day, detection of fraud is challenging.\n",
    "\n",
    "This Dataset sourced by some unnamed institute.\n",
    "\n",
    "Feature Explanation:\n",
    "\n",
    "- `distancefromhome` - the distance from home where the transaction happened.\n",
    "\n",
    "- `distancefromlast_transaction` - the distance from last transaction happened.\n",
    "\n",
    "- `ratiotomedianpurchaseprice` - Ratio of purchased price transaction to median purchase price.\n",
    "\n",
    "- `repeat_retailer` - Is the transaction happened from same retailer.\n",
    "\n",
    "- `used_chip` - Is the transaction through chip (credit card).\n",
    "\n",
    "- `usedpinnumber` - Is the transaction happened by using PIN number.\n",
    "\n",
    "- `online_order` - Is the transaction an online order.\n",
    "\n",
    "- `fraud` - Is the transaction fraudulent.\n",
    "\n",
    "\n",
    "\n",
    "\n",
    "\n",
    "https://www.kaggle.com/datasets/dhanushnarayananr/credit-card-fraud"
   ]
  },
  {
   "cell_type": "code",
   "execution_count": 1,
   "id": "739fe8a0",
   "metadata": {},
   "outputs": [],
   "source": [
    "import numpy as np\n",
    "import pandas as pd\n",
    "\n",
    "import seaborn as sns\n",
    "import matplotlib.pyplot as plt"
   ]
  },
  {
   "cell_type": "code",
   "execution_count": 2,
   "id": "c55717ac",
   "metadata": {},
   "outputs": [],
   "source": [
    "data = pd.read_csv('_data/card_transdata.csv')"
   ]
  },
  {
   "cell_type": "code",
   "execution_count": 3,
   "id": "dc39609f",
   "metadata": {},
   "outputs": [
    {
     "data": {
      "text/html": [
       "<div>\n",
       "<style scoped>\n",
       "    .dataframe tbody tr th:only-of-type {\n",
       "        vertical-align: middle;\n",
       "    }\n",
       "\n",
       "    .dataframe tbody tr th {\n",
       "        vertical-align: top;\n",
       "    }\n",
       "\n",
       "    .dataframe thead th {\n",
       "        text-align: right;\n",
       "    }\n",
       "</style>\n",
       "<table border=\"1\" class=\"dataframe\">\n",
       "  <thead>\n",
       "    <tr style=\"text-align: right;\">\n",
       "      <th></th>\n",
       "      <th>distance_from_home</th>\n",
       "      <th>distance_from_last_transaction</th>\n",
       "      <th>ratio_to_median_purchase_price</th>\n",
       "      <th>repeat_retailer</th>\n",
       "      <th>used_chip</th>\n",
       "      <th>used_pin_number</th>\n",
       "      <th>online_order</th>\n",
       "      <th>fraud</th>\n",
       "    </tr>\n",
       "  </thead>\n",
       "  <tbody>\n",
       "    <tr>\n",
       "      <th>0</th>\n",
       "      <td>57.877857</td>\n",
       "      <td>0.311140</td>\n",
       "      <td>1.945940</td>\n",
       "      <td>1.0</td>\n",
       "      <td>1.0</td>\n",
       "      <td>0.0</td>\n",
       "      <td>0.0</td>\n",
       "      <td>0.0</td>\n",
       "    </tr>\n",
       "    <tr>\n",
       "      <th>1</th>\n",
       "      <td>10.829943</td>\n",
       "      <td>0.175592</td>\n",
       "      <td>1.294219</td>\n",
       "      <td>1.0</td>\n",
       "      <td>0.0</td>\n",
       "      <td>0.0</td>\n",
       "      <td>0.0</td>\n",
       "      <td>0.0</td>\n",
       "    </tr>\n",
       "    <tr>\n",
       "      <th>2</th>\n",
       "      <td>5.091079</td>\n",
       "      <td>0.805153</td>\n",
       "      <td>0.427715</td>\n",
       "      <td>1.0</td>\n",
       "      <td>0.0</td>\n",
       "      <td>0.0</td>\n",
       "      <td>1.0</td>\n",
       "      <td>0.0</td>\n",
       "    </tr>\n",
       "    <tr>\n",
       "      <th>3</th>\n",
       "      <td>2.247564</td>\n",
       "      <td>5.600044</td>\n",
       "      <td>0.362663</td>\n",
       "      <td>1.0</td>\n",
       "      <td>1.0</td>\n",
       "      <td>0.0</td>\n",
       "      <td>1.0</td>\n",
       "      <td>0.0</td>\n",
       "    </tr>\n",
       "    <tr>\n",
       "      <th>4</th>\n",
       "      <td>44.190936</td>\n",
       "      <td>0.566486</td>\n",
       "      <td>2.222767</td>\n",
       "      <td>1.0</td>\n",
       "      <td>1.0</td>\n",
       "      <td>0.0</td>\n",
       "      <td>1.0</td>\n",
       "      <td>0.0</td>\n",
       "    </tr>\n",
       "    <tr>\n",
       "      <th>...</th>\n",
       "      <td>...</td>\n",
       "      <td>...</td>\n",
       "      <td>...</td>\n",
       "      <td>...</td>\n",
       "      <td>...</td>\n",
       "      <td>...</td>\n",
       "      <td>...</td>\n",
       "      <td>...</td>\n",
       "    </tr>\n",
       "    <tr>\n",
       "      <th>999995</th>\n",
       "      <td>2.207101</td>\n",
       "      <td>0.112651</td>\n",
       "      <td>1.626798</td>\n",
       "      <td>1.0</td>\n",
       "      <td>1.0</td>\n",
       "      <td>0.0</td>\n",
       "      <td>0.0</td>\n",
       "      <td>0.0</td>\n",
       "    </tr>\n",
       "    <tr>\n",
       "      <th>999996</th>\n",
       "      <td>19.872726</td>\n",
       "      <td>2.683904</td>\n",
       "      <td>2.778303</td>\n",
       "      <td>1.0</td>\n",
       "      <td>1.0</td>\n",
       "      <td>0.0</td>\n",
       "      <td>0.0</td>\n",
       "      <td>0.0</td>\n",
       "    </tr>\n",
       "    <tr>\n",
       "      <th>999997</th>\n",
       "      <td>2.914857</td>\n",
       "      <td>1.472687</td>\n",
       "      <td>0.218075</td>\n",
       "      <td>1.0</td>\n",
       "      <td>1.0</td>\n",
       "      <td>0.0</td>\n",
       "      <td>1.0</td>\n",
       "      <td>0.0</td>\n",
       "    </tr>\n",
       "    <tr>\n",
       "      <th>999998</th>\n",
       "      <td>4.258729</td>\n",
       "      <td>0.242023</td>\n",
       "      <td>0.475822</td>\n",
       "      <td>1.0</td>\n",
       "      <td>0.0</td>\n",
       "      <td>0.0</td>\n",
       "      <td>1.0</td>\n",
       "      <td>0.0</td>\n",
       "    </tr>\n",
       "    <tr>\n",
       "      <th>999999</th>\n",
       "      <td>58.108125</td>\n",
       "      <td>0.318110</td>\n",
       "      <td>0.386920</td>\n",
       "      <td>1.0</td>\n",
       "      <td>1.0</td>\n",
       "      <td>0.0</td>\n",
       "      <td>1.0</td>\n",
       "      <td>0.0</td>\n",
       "    </tr>\n",
       "  </tbody>\n",
       "</table>\n",
       "<p>1000000 rows × 8 columns</p>\n",
       "</div>"
      ],
      "text/plain": [
       "        distance_from_home  distance_from_last_transaction  \\\n",
       "0                57.877857                        0.311140   \n",
       "1                10.829943                        0.175592   \n",
       "2                 5.091079                        0.805153   \n",
       "3                 2.247564                        5.600044   \n",
       "4                44.190936                        0.566486   \n",
       "...                    ...                             ...   \n",
       "999995            2.207101                        0.112651   \n",
       "999996           19.872726                        2.683904   \n",
       "999997            2.914857                        1.472687   \n",
       "999998            4.258729                        0.242023   \n",
       "999999           58.108125                        0.318110   \n",
       "\n",
       "        ratio_to_median_purchase_price  repeat_retailer  used_chip  \\\n",
       "0                             1.945940              1.0        1.0   \n",
       "1                             1.294219              1.0        0.0   \n",
       "2                             0.427715              1.0        0.0   \n",
       "3                             0.362663              1.0        1.0   \n",
       "4                             2.222767              1.0        1.0   \n",
       "...                                ...              ...        ...   \n",
       "999995                        1.626798              1.0        1.0   \n",
       "999996                        2.778303              1.0        1.0   \n",
       "999997                        0.218075              1.0        1.0   \n",
       "999998                        0.475822              1.0        0.0   \n",
       "999999                        0.386920              1.0        1.0   \n",
       "\n",
       "        used_pin_number  online_order  fraud  \n",
       "0                   0.0           0.0    0.0  \n",
       "1                   0.0           0.0    0.0  \n",
       "2                   0.0           1.0    0.0  \n",
       "3                   0.0           1.0    0.0  \n",
       "4                   0.0           1.0    0.0  \n",
       "...                 ...           ...    ...  \n",
       "999995              0.0           0.0    0.0  \n",
       "999996              0.0           0.0    0.0  \n",
       "999997              0.0           1.0    0.0  \n",
       "999998              0.0           1.0    0.0  \n",
       "999999              0.0           1.0    0.0  \n",
       "\n",
       "[1000000 rows x 8 columns]"
      ]
     },
     "execution_count": 3,
     "metadata": {},
     "output_type": "execute_result"
    }
   ],
   "source": [
    "data"
   ]
  },
  {
   "cell_type": "code",
   "execution_count": 4,
   "id": "2cb54d41",
   "metadata": {},
   "outputs": [],
   "source": [
    "data['repeat_retailer'] = data['repeat_retailer'].values.astype(bool)\n",
    "data['used_chip'] = data['used_chip'].values.astype(bool)\n",
    "data['used_pin_number'] = data['used_pin_number'].values.astype(bool)\n",
    "data['online_order'] = data['online_order'].values.astype(bool)"
   ]
  },
  {
   "cell_type": "code",
   "execution_count": 5,
   "id": "7706761c",
   "metadata": {},
   "outputs": [
    {
     "name": "stdout",
     "output_type": "stream",
     "text": [
      "<class 'pandas.core.frame.DataFrame'>\n",
      "RangeIndex: 1000000 entries, 0 to 999999\n",
      "Data columns (total 8 columns):\n",
      " #   Column                          Non-Null Count    Dtype  \n",
      "---  ------                          --------------    -----  \n",
      " 0   distance_from_home              1000000 non-null  float64\n",
      " 1   distance_from_last_transaction  1000000 non-null  float64\n",
      " 2   ratio_to_median_purchase_price  1000000 non-null  float64\n",
      " 3   repeat_retailer                 1000000 non-null  bool   \n",
      " 4   used_chip                       1000000 non-null  bool   \n",
      " 5   used_pin_number                 1000000 non-null  bool   \n",
      " 6   online_order                    1000000 non-null  bool   \n",
      " 7   fraud                           1000000 non-null  float64\n",
      "dtypes: bool(4), float64(4)\n",
      "memory usage: 34.3 MB\n"
     ]
    }
   ],
   "source": [
    "data.info()"
   ]
  },
  {
   "cell_type": "code",
   "execution_count": 6,
   "id": "7e404e52",
   "metadata": {},
   "outputs": [
    {
     "data": {
      "image/png": "[encoded data removed]",
      "text/plain": [
       "<Figure size 504x504 with 1 Axes>"
      ]
     },
     "metadata": {},
     "output_type": "display_data"
    }
   ],
   "source": [
    "plt.figure(figsize=(7, 7))\n",
    "plt.pie([data[data['fraud'] == 0].shape[0],\n",
    "         data[data['fraud'] == 1].shape[0]],\n",
    "        labels=['Not Fraud', 'Fraud'], autopct='%1.2f%%');"
   ]
  },
  {
   "cell_type": "code",
   "execution_count": 7,
   "id": "3cb0cb8f",
   "metadata": {},
   "outputs": [],
   "source": [
    "from sklearn.model_selection import train_test_split\n",
    "from imblearn.over_sampling import SMOTE \n",
    "from imblearn.over_sampling import RandomOverSampler as ROS\n",
    "from imblearn.under_sampling import RandomUnderSampler as RUS"
   ]
  },
  {
   "cell_type": "code",
   "execution_count": 8,
   "id": "8acdbf65",
   "metadata": {},
   "outputs": [],
   "source": [
    "X = data.drop(columns=['fraud'])\n",
    "y = data['fraud']"
   ]
  },
  {
   "cell_type": "code",
   "execution_count": 9,
   "id": "3a5c44b7",
   "metadata": {},
   "outputs": [],
   "source": [
    "X_train, X_test, y_train, y_test = train_test_split(X, y, test_size=0.3)"
   ]
  },
  {
   "cell_type": "code",
   "execution_count": 10,
   "id": "ad823d55",
   "metadata": {},
   "outputs": [
    {
     "data": {
      "text/plain": [
       "((700000, 7), (300000, 7), (700000,), (300000,))"
      ]
     },
     "execution_count": 10,
     "metadata": {},
     "output_type": "execute_result"
    }
   ],
   "source": [
    "X_train.shape, X_test.shape, y_train.shape, y_test.shape"
   ]
  },
  {
   "cell_type": "code",
   "execution_count": 11,
   "id": "055c48eb",
   "metadata": {},
   "outputs": [
    {
     "data": {
      "text/plain": [
       "0.09578061845858106"
      ]
     },
     "execution_count": 11,
     "metadata": {},
     "output_type": "execute_result"
    }
   ],
   "source": [
    "X_train[y_train==1].shape[0]/X_train[y_train==0].shape[0]"
   ]
  },
  {
   "cell_type": "code",
   "execution_count": 12,
   "id": "cc269374",
   "metadata": {},
   "outputs": [],
   "source": [
    "ros = ROS(sampling_strategy=.7)\n",
    "rus = RUS(sampling_strategy=.7)\n",
    "smo = SMOTE(sampling_strategy=.7)"
   ]
  },
  {
   "cell_type": "code",
   "execution_count": 13,
   "id": "a024074e",
   "metadata": {},
   "outputs": [],
   "source": [
    "X_t_ros, y_t_ros = ros.fit_resample(X_train, y_train)\n",
    "X_t_rus, y_t_rus = rus.fit_resample(X_train, y_train)\n",
    "X_t_smo, y_t_smo = smo.fit_resample(X_train, y_train)"
   ]
  },
  {
   "cell_type": "code",
   "execution_count": 14,
   "id": "9a0834b1",
   "metadata": {},
   "outputs": [
    {
     "data": {
      "text/plain": [
       "0.6999987476792932"
      ]
     },
     "execution_count": 14,
     "metadata": {},
     "output_type": "execute_result"
    }
   ],
   "source": [
    "X_t_ros[y_t_ros==1].shape[0]/X_t_ros[y_t_ros==0].shape[0]"
   ]
  },
  {
   "cell_type": "code",
   "execution_count": 15,
   "id": "0d690cb7",
   "metadata": {},
   "outputs": [
    {
     "data": {
      "text/plain": [
       "0.7000045762401611"
      ]
     },
     "execution_count": 15,
     "metadata": {},
     "output_type": "execute_result"
    }
   ],
   "source": [
    "X_t_rus[y_t_rus==1].shape[0]/X_t_rus[y_t_rus==0].shape[0]"
   ]
  },
  {
   "cell_type": "code",
   "execution_count": 16,
   "id": "8e50763a",
   "metadata": {},
   "outputs": [
    {
     "data": {
      "text/plain": [
       "0.6999987476792932"
      ]
     },
     "execution_count": 16,
     "metadata": {},
     "output_type": "execute_result"
    }
   ],
   "source": [
    "X_t_smo[y_t_smo==1].shape[0]/X_t_smo[y_t_smo==0].shape[0]"
   ]
  },
  {
   "cell_type": "code",
   "execution_count": 21,
   "id": "74024af5",
   "metadata": {},
   "outputs": [
    {
     "data": {
      "text/plain": [
       "(1085983,)"
      ]
     },
     "execution_count": 21,
     "metadata": {},
     "output_type": "execute_result"
    }
   ],
   "source": [
    "X_t_smo['repeat_retailer'].shape"
   ]
  },
  {
   "cell_type": "code",
   "execution_count": 20,
   "id": "174cf3bb",
   "metadata": {},
   "outputs": [
    {
     "data": {
      "text/plain": [
       "(1085983,)"
      ]
     },
     "execution_count": 20,
     "metadata": {},
     "output_type": "execute_result"
    }
   ],
   "source": [
    "y_t_smo.shape"
   ]
  },
  {
   "cell_type": "markdown",
   "id": "7ee4b2e0",
   "metadata": {},
   "source": [
    "# Try yourself:\n",
    "\n",
    "https://www.kaggle.com/datasets/mlg-ulb/creditcardfraud"
   ]
  }
 ],
 "metadata": {
  "kernelspec": {
   "display_name": "Python 3 (ipykernel)",
   "language": "python",
   "name": "python3"
  },
  "language_info": {
   "codemirror_mode": {
    "name": "ipython",
    "version": 3
   },
   "file_extension": ".py",
   "mimetype": "text/x-python",
   "name": "python",
   "nbconvert_exporter": "python",
   "pygments_lexer": "ipython3",
   "version": "3.9.5"
  }
 },
 "nbformat": 4,
 "nbformat_minor": 5
}
